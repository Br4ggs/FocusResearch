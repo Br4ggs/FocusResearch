{
 "cells": [
  {
   "cell_type": "code",
   "execution_count": 27,
   "outputs": [],
   "source": [
    "import math\n",
    "import numpy as np\n",
    "import pandas as pd\n",
    "import matplotlib.pyplot as plt\n",
    "import seaborn as sns\n",
    "import statsmodels.api as sm\n",
    "from confidence import ConfidenceInterval\n",
    "\n",
    "sns.set()  # set Seaborn defaults\n",
    "plt.rcParams['figure.figsize'] = 10, 5  # default hor./vert. size of plots, in inches\n",
    "plt.rcParams['lines.markeredgewidth'] = 1  # to fix iss\n",
    "\n",
    "folder_break = \"./Data/Break/Break\"\n",
    "folder_no_break = \"./Data/NoBreak/NoBreak\"\n",
    "values = 11"
   ],
   "metadata": {
    "collapsed": false,
    "pycharm": {
     "name": "#%%\n"
    }
   }
  },
  {
   "cell_type": "code",
   "execution_count": 28,
   "outputs": [],
   "source": [
    "no_break_stats = []\n",
    "no_break_means = []\n",
    "\n",
    "for i in range(values):\n",
    "    location = folder_no_break + str(i + 1) + \".csv\"\n",
    "    no_break_stats.append(pd.read_csv(location))\n",
    "    no_break_means.append(no_break_stats[i][\"FocusReal\"].mean())\n",
    "\n",
    "df_no_break = pd.DataFrame(no_break_means, columns=['Focus Mean'])\n",
    "no_break_mean = sum(no_break_means) / len(no_break_means)"
   ],
   "metadata": {
    "collapsed": false,
    "pycharm": {
     "name": "#%%\n"
    }
   }
  },
  {
   "cell_type": "code",
   "execution_count": 29,
   "outputs": [],
   "source": [
    "break_stats = []\n",
    "break_means = []\n",
    "\n",
    "for i in range(values):\n",
    "    location = folder_break + str(i + 1) + \".csv\"\n",
    "    break_stats.append(pd.read_csv(location))\n",
    "    break_means.append(break_stats[i][\"FocusReal\"].mean())\n",
    "\n",
    "df_break = pd.DataFrame(break_means, columns=['Focus Mean'])\n",
    "break_mean = sum(break_means) / len(break_means)"
   ],
   "metadata": {
    "collapsed": false,
    "pycharm": {
     "name": "#%%\n"
    }
   }
  },
  {
   "cell_type": "code",
   "execution_count": 30,
   "outputs": [],
   "source": [
    "differences = []\n",
    "\n",
    "for i in range(values):\n",
    "    differences.append(break_means[i] - no_break_means[i])\n",
    "\n",
    "differences_mean = sum(differences) / len(differences)"
   ],
   "metadata": {
    "collapsed": false,
    "pycharm": {
     "name": "#%%\n"
    }
   }
  },
  {
   "cell_type": "code",
   "execution_count": null,
   "outputs": [],
   "source": [
    "table_data_break = []\n",
    "table_data_no_break = []\n",
    "table_differences = []\n",
    "\n",
    "for i in range(values):\n",
    "    table_data_break.append([i+1, break_means[i].round(4)])\n",
    "    table_data_no_break.append([i+1, no_break_means[i].round(4)])\n",
    "    table_differences.append([i+1, differences[i].round(4)])\n",
    "\n",
    "table_data_break.append([\"Mean ≈\", break_mean.round(4)])\n",
    "table_data_no_break.append([\"Mean ≈\", no_break_mean.round(4)])\n",
    "table_differences.append([\"Mean ≈\", differences_mean.round(4)])\n",
    "\n",
    "fig, axs = plt.subplots(1, 3)\n",
    "\n",
    "table_break = axs[0].table(cellText=table_data_break, cellLoc='center', loc='center', colLabels=[\"Participant\", \"Concentration mean (≈)\"], colWidths=[0.3,1])\n",
    "table_break.set_fontsize(14)\n",
    "table_break.scale(1,1.5)\n",
    "axs[0].axis('off')\n",
    "axs[0].set_title(\"Break\")\n",
    "\n",
    "table_no_break = axs[1].table(cellText=table_data_no_break, cellLoc='center', loc='center', colLabels=[\"Participant\", \"Concentration mean (≈)\"], colWidths=[0.3,1])\n",
    "table_no_break.set_fontsize(14)\n",
    "table_no_break.scale(1,1.5)\n",
    "axs[1].axis('off')\n",
    "axs[1].set_title(\"No break\")\n",
    "\n",
    "table_no_break = axs[2].table(cellText=table_differences, cellLoc='center', loc='center', colLabels=[\"Participant\", \"Difference (≈)\"], colWidths=[0.3,1])\n",
    "table_no_break.set_fontsize(14)\n",
    "table_no_break.scale(1,1.5)\n",
    "axs[2].axis('off')\n",
    "axs[2].set_title(\"Difference\")\n",
    "\n",
    "fig.dpi = 120\n",
    "plt.tight_layout()\n",
    "plt.show()\n"
   ],
   "metadata": {
    "collapsed": false,
    "pycharm": {
     "name": "#%%\n",
     "is_executing": true
    }
   }
  },
  {
   "cell_type": "code",
   "execution_count": null,
   "outputs": [],
   "source": [
    "ax = df_break.plot(kind='density', title = \"Break\")\n",
    "ax.axvline(break_mean, color='k')\n",
    "ax.text(break_mean - 0.2, 0, \"Mean\", rotation=90);"
   ],
   "metadata": {
    "collapsed": false,
    "pycharm": {
     "name": "#%%\n",
     "is_executing": true
    }
   }
  },
  {
   "cell_type": "code",
   "execution_count": null,
   "outputs": [],
   "source": [
    "ax = df_no_break.plot(kind='density', title = \"No Break\")\n",
    "ax.axvline(no_break_mean, color='k')\n",
    "ax.text(no_break_mean - 0.2, 0, \"Mean\", rotation=90);"
   ],
   "metadata": {
    "collapsed": false,
    "pycharm": {
     "name": "#%%\n",
     "is_executing": true
    }
   }
  },
  {
   "cell_type": "code",
   "execution_count": null,
   "outputs": [],
   "source": [
    "sm.stats.normal_ad(df_break['Focus Mean'])"
   ],
   "metadata": {
    "collapsed": false,
    "pycharm": {
     "name": "#%%\n",
     "is_executing": true
    }
   }
  },
  {
   "cell_type": "code",
   "execution_count": null,
   "outputs": [],
   "source": [
    "sm.stats.normal_ad(df_no_break['Focus Mean'])\n",
    "\n",
    "\n"
   ],
   "metadata": {
    "collapsed": false,
    "pycharm": {
     "name": "#%%\n",
     "is_executing": true
    }
   }
  },
  {
   "cell_type": "code",
   "execution_count": null,
   "outputs": [],
   "source": [
    "t_value = 2.228\n",
    "\n",
    "break_sample_deviation = ConfidenceInterval.GetSampleDeviation(break_means)\n",
    "ConfidenceInterval.GetConfidenceInterval(break_mean, break_sample_deviation, values, t_value)\n",
    "\n"
   ],
   "metadata": {
    "collapsed": false,
    "pycharm": {
     "name": "#%%\n",
     "is_executing": true
    }
   }
  },
  {
   "cell_type": "code",
   "execution_count": null,
   "outputs": [],
   "source": [
    "no_break_sample_deviation = ConfidenceInterval.GetSampleVariance(no_break_means)\n",
    "ConfidenceInterval.GetConfidenceInterval(no_break_mean, no_break_sample_deviation, values, t_value)"
   ],
   "metadata": {
    "collapsed": false,
    "pycharm": {
     "name": "#%%\n",
     "is_executing": true
    }
   }
  }
 ],
 "metadata": {
  "kernelspec": {
   "display_name": "Python 3",
   "language": "python",
   "name": "python3"
  },
  "language_info": {
   "codemirror_mode": {
    "name": "ipython",
    "version": 3
   },
   "file_extension": ".py",
   "mimetype": "text/x-python",
   "name": "python",
   "nbconvert_exporter": "python",
   "pygments_lexer": "ipython3",
   "version": "3.9.1"
  }
 },
 "nbformat": 4,
 "nbformat_minor": 4
}