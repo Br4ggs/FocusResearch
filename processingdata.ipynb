{
 "cells": [
  {
   "cell_type": "code",
   "execution_count": 2,
   "metadata": {
    "collapsed": false,
    "jupyter": {
     "outputs_hidden": false
    },
    "pycharm": {
     "name": "#%%\n"
    }
   },
   "outputs": [
    {
     "ename": "ModuleNotFoundError",
     "evalue": "No module named 'statsmodels'",
     "output_type": "error",
     "traceback": [
      "\u001b[1;31m---------------------------------------------------------------------------\u001b[0m",
      "\u001b[1;31mModuleNotFoundError\u001b[0m                       Traceback (most recent call last)",
      "\u001b[1;32m<ipython-input-2-8e99df59190f>\u001b[0m in \u001b[0;36m<module>\u001b[1;34m\u001b[0m\n\u001b[0;32m      4\u001b[0m \u001b[1;32mimport\u001b[0m \u001b[0mmatplotlib\u001b[0m\u001b[1;33m.\u001b[0m\u001b[0mpyplot\u001b[0m \u001b[1;32mas\u001b[0m \u001b[0mplt\u001b[0m\u001b[1;33m\u001b[0m\u001b[1;33m\u001b[0m\u001b[0m\n\u001b[0;32m      5\u001b[0m \u001b[1;32mimport\u001b[0m \u001b[0mseaborn\u001b[0m \u001b[1;32mas\u001b[0m \u001b[0msns\u001b[0m\u001b[1;33m\u001b[0m\u001b[1;33m\u001b[0m\u001b[0m\n\u001b[1;32m----> 6\u001b[1;33m \u001b[1;32mimport\u001b[0m \u001b[0mstatsmodels\u001b[0m\u001b[1;33m.\u001b[0m\u001b[0mapi\u001b[0m \u001b[1;32mas\u001b[0m \u001b[0msm\u001b[0m\u001b[1;33m\u001b[0m\u001b[1;33m\u001b[0m\u001b[0m\n\u001b[0m\u001b[0;32m      7\u001b[0m \u001b[1;32mfrom\u001b[0m \u001b[0mconfidence\u001b[0m \u001b[1;32mimport\u001b[0m \u001b[0mConfidenceInterval\u001b[0m\u001b[1;33m\u001b[0m\u001b[1;33m\u001b[0m\u001b[0m\n\u001b[0;32m      8\u001b[0m \u001b[1;33m\u001b[0m\u001b[0m\n",
      "\u001b[1;31mModuleNotFoundError\u001b[0m: No module named 'statsmodels'"
     ]
    }
   ],
   "source": [
    "import math\n",
    "import numpy as np\n",
    "import pandas as pd\n",
    "import matplotlib.pyplot as plt\n",
    "import seaborn as sns\n",
    "import statsmodels.api as sm\n",
    "from confidence import ConfidenceInterval\n",
    "\n",
    "sns.set()  # set Seaborn defaults\n",
    "plt.rcParams['figure.figsize'] = 10, 5  # default hor./vert. size of plots, in inches\n",
    "plt.rcParams['lines.markeredgewidth'] = 1  # to fix iss\n",
    "\n",
    "folder_break = \"./Data/Break/Break\"\n",
    "folder_no_break = \"./Data/NoBreak/NoBreak\"\n",
    "values = 11"
   ]
  },
  {
   "cell_type": "markdown",
   "metadata": {},
   "source": [
    "### Extracting population means from samples\n",
    "-calculate standard deviation.:\n",
    "    -calculate sample standard deviation ≈ σ\n",
    "    -calculate standard deviation of sampling distribution of sample mean\n",
    "    \n",
    "    \n",
    "-extrapolate from sample mean to population mean\n",
    "-etc.."
   ]
  },
  {
   "cell_type": "code",
   "execution_count": null,
   "metadata": {
    "collapsed": false,
    "jupyter": {
     "outputs_hidden": false
    },
    "pycharm": {
     "name": "#%%\n"
    }
   },
   "outputs": [],
   "source": [
    "no_break_stats = []\n",
    "no_break_means = []\n",
    "\n",
    "for i in range(values):\n",
    "    location = folder_no_break + str(i + 1) + \".csv\"\n",
    "    no_break_stats.append(pd.read_csv(location))\n",
    "    no_break_means.append(no_break_stats[i][\"FocusReal\"].mean())\n",
    "\n",
    "df_no_break = pd.DataFrame(no_break_means, columns=['Focus Mean'])\n",
    "no_break_mean = sum(no_break_means) / len(no_break_means)"
   ]
  },
  {
   "cell_type": "code",
   "execution_count": null,
   "metadata": {
    "collapsed": false,
    "jupyter": {
     "outputs_hidden": false
    },
    "pycharm": {
     "name": "#%%\n"
    }
   },
   "outputs": [],
   "source": [
    "break_stats = []\n",
    "break_means = []\n",
    "\n",
    "for i in range(values):\n",
    "    location = folder_break + str(i + 1) + \".csv\"\n",
    "    break_stats.append(pd.read_csv(location))\n",
    "    break_means.append(break_stats[i][\"FocusReal\"].mean())\n",
    "\n",
    "df_break = pd.DataFrame(break_means, columns=['Focus Mean'])\n",
    "break_mean = sum(break_means) / len(break_means)"
   ]
  },
  {
   "cell_type": "code",
   "execution_count": null,
   "metadata": {
    "collapsed": false,
    "jupyter": {
     "outputs_hidden": false
    },
    "pycharm": {
     "name": "#%%\n"
    }
   },
   "outputs": [],
   "source": [
    "differences = []\n",
    "\n",
    "for i in range(values):\n",
    "    differences.append(break_means[i] - no_break_means[i])\n",
    "\n",
    "differences_mean = sum(differences) / len(differences)"
   ]
  },
  {
   "cell_type": "code",
   "execution_count": null,
   "metadata": {
    "collapsed": false,
    "jupyter": {
     "outputs_hidden": false
    },
    "pycharm": {
     "is_executing": true,
     "name": "#%%\n"
    }
   },
   "outputs": [],
   "source": [
    "table_data_break = []\n",
    "table_data_no_break = []\n",
    "table_differences = []\n",
    "\n",
    "for i in range(values):\n",
    "    table_data_break.append([i+1, break_means[i].round(4)])\n",
    "    table_data_no_break.append([i+1, no_break_means[i].round(4)])\n",
    "    table_differences.append([i+1, differences[i].round(4)])\n",
    "\n",
    "table_data_break.append([\"Mean ≈\", break_mean.round(4)])\n",
    "table_data_no_break.append([\"Mean ≈\", no_break_mean.round(4)])\n",
    "table_differences.append([\"Mean ≈\", differences_mean.round(4)])\n",
    "\n",
    "fig, axs = plt.subplots(1, 3)\n",
    "\n",
    "table_break = axs[0].table(cellText=table_data_break, cellLoc='center', loc='center', colLabels=[\"Participant\", \"Concentration mean (≈)\"], colWidths=[0.3,1])\n",
    "table_break.set_fontsize(14)\n",
    "table_break.scale(1,1.5)\n",
    "axs[0].axis('off')\n",
    "axs[0].set_title(\"Break\")\n",
    "\n",
    "table_no_break = axs[1].table(cellText=table_data_no_break, cellLoc='center', loc='center', colLabels=[\"Participant\", \"Concentration mean (≈)\"], colWidths=[0.3,1])\n",
    "table_no_break.set_fontsize(14)\n",
    "table_no_break.scale(1,1.5)\n",
    "axs[1].axis('off')\n",
    "axs[1].set_title(\"No break\")\n",
    "\n",
    "table_no_break = axs[2].table(cellText=table_differences, cellLoc='center', loc='center', colLabels=[\"Participant\", \"Difference (≈)\"], colWidths=[0.3,1])\n",
    "table_no_break.set_fontsize(14)\n",
    "table_no_break.scale(1,1.5)\n",
    "axs[2].axis('off')\n",
    "axs[2].set_title(\"Difference\")\n",
    "\n",
    "fig.dpi = 120\n",
    "plt.tight_layout()\n",
    "plt.show()\n"
   ]
  },
  {
   "cell_type": "code",
   "execution_count": null,
   "metadata": {
    "collapsed": false,
    "jupyter": {
     "outputs_hidden": false
    },
    "pycharm": {
     "is_executing": true,
     "name": "#%%\n"
    }
   },
   "outputs": [],
   "source": [
    "ax = df_break.plot(kind='density', title = \"Break\")\n",
    "ax.axvline(break_mean, color='k')\n",
    "ax.text(break_mean - 0.2, 0, \"Mean\", rotation=90);"
   ]
  },
  {
   "cell_type": "code",
   "execution_count": null,
   "metadata": {
    "collapsed": false,
    "jupyter": {
     "outputs_hidden": false
    },
    "pycharm": {
     "is_executing": true,
     "name": "#%%\n"
    }
   },
   "outputs": [],
   "source": [
    "ax = df_no_break.plot(kind='density', title = \"No Break\")\n",
    "ax.axvline(no_break_mean, color='k')\n",
    "ax.text(no_break_mean - 0.2, 0, \"Mean\", rotation=90);"
   ]
  },
  {
   "cell_type": "code",
   "execution_count": null,
   "metadata": {
    "collapsed": false,
    "jupyter": {
     "outputs_hidden": false
    },
    "pycharm": {
     "is_executing": true,
     "name": "#%%\n"
    }
   },
   "outputs": [],
   "source": [
    "sm.stats.normal_ad(df_break['Focus Mean'])"
   ]
  },
  {
   "cell_type": "code",
   "execution_count": null,
   "metadata": {
    "collapsed": false,
    "jupyter": {
     "outputs_hidden": false
    },
    "pycharm": {
     "is_executing": true,
     "name": "#%%\n"
    }
   },
   "outputs": [],
   "source": [
    "sm.stats.normal_ad(df_no_break['Focus Mean'])\n",
    "\n",
    "\n"
   ]
  },
  {
   "cell_type": "code",
   "execution_count": null,
   "metadata": {
    "collapsed": false,
    "jupyter": {
     "outputs_hidden": false
    },
    "pycharm": {
     "is_executing": true,
     "name": "#%%\n"
    }
   },
   "outputs": [],
   "source": [
    "t_value = 2.228\n",
    "\n",
    "break_sample_deviation = ConfidenceInterval.GetSampleDeviation(break_means)\n",
    "ConfidenceInterval.GetConfidenceInterval(break_mean, break_sample_deviation, values, t_value)\n",
    "\n"
   ]
  },
  {
   "cell_type": "code",
   "execution_count": null,
   "metadata": {
    "collapsed": false,
    "jupyter": {
     "outputs_hidden": false
    },
    "pycharm": {
     "is_executing": true,
     "name": "#%%\n"
    }
   },
   "outputs": [],
   "source": [
    "no_break_sample_deviation = ConfidenceInterval.GetSampleVariance(no_break_means)\n",
    "ConfidenceInterval.GetConfidenceInterval(no_break_mean, no_break_sample_deviation, values, t_value)"
   ]
  }
 ],
 "metadata": {
  "kernelspec": {
   "display_name": "Python 3",
   "language": "python",
   "name": "python3"
  },
  "language_info": {
   "codemirror_mode": {
    "name": "ipython",
    "version": 3
   },
   "file_extension": ".py",
   "mimetype": "text/x-python",
   "name": "python",
   "nbconvert_exporter": "python",
   "pygments_lexer": "ipython3",
   "version": "3.9.1"
  }
 },
 "nbformat": 4,
 "nbformat_minor": 4
}
