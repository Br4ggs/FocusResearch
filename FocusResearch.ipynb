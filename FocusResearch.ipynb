{
 "cells": [
  {
   "cell_type": "code",
   "execution_count": 9,
   "id": "related-recipe",
   "metadata": {
    "tags": [
     "remove-cell"
    ]
   },
   "outputs": [
    {
     "data": {
      "text/html": [
       "<style>\n",
       "table {float:left}\n",
       "</style>\n"
      ],
      "text/plain": [
       "<IPython.core.display.HTML object>"
      ]
     },
     "metadata": {},
     "output_type": "display_data"
    }
   ],
   "source": [
    "%%html\n",
    "<style>\n",
    "table {float:left}\n",
    "</style>"
   ]
  },
  {
   "cell_type": "code",
   "execution_count": 1,
   "id": "anticipated-colleague",
   "metadata": {},
   "outputs": [],
   "source": [
    "import pandas as pd\n",
    "import numpy as np\n",
    "import matplotlib.pyplot as plt"
   ]
  },
  {
   "cell_type": "markdown",
   "id": "golden-convenience",
   "metadata": {},
   "source": [
    "<div align=\"center\">\n",
    "<h1>Research focus improvement</h1>\n",
    "A statistical study on the effects of break during periods of focus\n",
    "</div>\n",
    "\n",
    "<div align=\"center\">\n",
    "<img src=\"img/muse.jpg\" alt=\"muse headband\" width=\"50%\" height=\"50%\">\n",
    "</div>\n",
    "\n",
    "<div align=\"center\">\n",
    "Name students:<br>\n",
    "Emiel van den Brink, Jeffrey van den Elshout<br>\n",
    "Student number:<br>\n",
    "i432064, i425587<br>\n",
    "Class:<br>\n",
    "ALG1-Thursday<br>\n",
    "Teacher:<br>\n",
    "Peter Lambooij<br>\n",
    "Version:<br>\n",
    "<code>1.3</code><br>\n",
    "Datum:<br>\n",
    "22-02-2021<br>\n",
    "</div>\n",
    "\n",
    "---"
   ]
  },
  {
   "cell_type": "markdown",
   "id": "friendly-rhythm",
   "metadata": {},
   "source": [
    "# Version control\n",
    "| Version number | Date | Author | Change |\n",
    "| --- | --- | :--- | :--- |\n",
    "| 1 | `22-02-2021` | Jeffrey, Emiel | Created basic layout of study |\n",
    "| 1.1 | `23-02-2021` | Jeffrey, Emiel | Updated structure of document |\n",
    "| 1.2 | `02-03-2021` | Jeffrey, Emiel | Added found data so far |\n",
    "| 1.3 | `16-03-2021` | Jeffrey, Emiel | Migrated document to jupyter |"
   ]
  },
  {
   "cell_type": "markdown",
   "id": "chemical-enlargement",
   "metadata": {},
   "source": [
    "# Table of contents\n",
    "1. [Preface](#Preface)\n",
    "2. [Problem analysis](#Problem-analysis)\n",
    "3. [Project goal](#Project-goal)\n",
    "3. [Strategies]()\n",
    "4. [Answering subquestions]()\n",
    "5. [Conclusion]()\n",
    "6. [Sources]()"
   ]
  },
  {
   "cell_type": "markdown",
   "id": "saving-anchor",
   "metadata": {},
   "source": [
    "# Preface\n",
    "For this study we were primarily interested in focusing on certain tasks. This is because we had just started a TU/e course for Logic and Set theory. Because we need to be very focussed to understand the material, we wanted to see if we could increase our efficiency by taking small breaks in between tasks.\n",
    "\n",
    "Because we do not own any equipment ourselves to actually record this data we had to borrow it. That is why we would like to thank Mama Producties B.V[1] for the use of their EEG devices and the code that was developed to receive data from the eeg device."
   ]
  },
  {
   "cell_type": "markdown",
   "id": "lucky-commissioner",
   "metadata": {},
   "source": [
    "# Problem analysis\n",
    "During certain tasks you really need to focus. It is however very tricky to stay focussed for longer periods of time.  You can lose focus quite easily when you read a chapter of a mathematics book. Or when you are driving a car. There are multiple studies on the internet that try to make a correlation between taking short breaks and an increase in focus and productivity. Our hypothesis is that taking short breaks on regular intervals will give you a longer attention span in general. We want to test this hypothesis in the following statistical study."
   ]
  },
  {
   "cell_type": "markdown",
   "id": "historical-attention",
   "metadata": {},
   "source": [
    "# Project goal\n",
    "With this project we want to use statistics to determine the difference in attention span between a person focusing continuously on a task and a person taking breaks during the task.\n",
    "\n",
    "Our hypothesis is that the person who takes breaks in between the task has a higher attention span in total.\n",
    "\n",
    "From this initial idea we formulated the following research question:  \n",
    "* Can an individual's attention span be improved by implementing short breaks at a consistent interval?\n",
    "\n",
    "From this defining research question we extracted the following sub-questions:\n",
    "* Can we use EEG equipment to measure focus?\n",
    "* What  EEG data do we need to determine the length of attention span?\n",
    "* What effects do short breaks have on attention span?"
   ]
  },
  {
   "cell_type": "markdown",
   "id": "prepared-hudson",
   "metadata": {},
   "source": [
    "# Strategies\n",
    "The following chapter lists each subquestions used strategies\n",
    "\n",
    "## Can we use EEG equipment to measure focus?\n",
    "### Library: Literature study\n",
    "To determine if we could record if a person is currently focusing on something from EEG data. We will first need to look at other studies to determine the viability of our measurement tools.\n",
    "\n",
    "### Workshop: Proof of concept\n",
    "We have to create a basic application that allows us to receive the data from the EEG device. The code that we are using currently does not have a general app where we could record our experiments with. So this would have to be developed.\n",
    "\n",
    "### Lab: Measuring \n",
    "After we have gathered the EEG data from the proof of concept. We have to determine if we can actually get Focus from EEG data.\n",
    "\n",
    "---\n",
    "\n",
    "## What  EEG data do we need to determine the length of attention span?\n",
    "TODO\n",
    "\n",
    "---\n",
    "\n",
    "## What effects do short breaks have on attention span?\n",
    "TODO"
   ]
  },
  {
   "cell_type": "markdown",
   "id": "undefined-banana",
   "metadata": {},
   "source": [
    "# Answering subquestions"
   ]
  },
  {
   "cell_type": "markdown",
   "id": "changed-worker",
   "metadata": {},
   "source": [
    "## Can we use EEG equipment to measure focus\n",
    "### Literature study\n",
    "The hardware that we are using during this study is a basic EEG device. This device is the Muse. It can read five different  EEG waves in total across five sensors. These five EEG waves are the Alpha(α), Beta(β), Delta(δ), Theta(θ) and Gamma(γ) waves.\n",
    "\n",
    "With these EEG waves, we have to determine a way to actually get a measurement for Focus. This study was not to determine if we could measure focus. So we looked for different studies where conducted to determine that algorithm.\n",
    "\n",
    "When researching we learned that when a person starts to focus the Beta wave increases and the Theta wave decreased in intensity. So we could use those two waves to determine a value for Focus. The algorithm we will be using for this study is this:\n",
    "$$ Focus = (\\frac{\\beta}{\\theta})^2 $$\n",
    "\n",
    "### Proof of concept\n",
    "Using the code to receive EEG data and store EEG data for the Muse we got from MaMaproductions B.V. We first had to change a couple of things this is because it was not specifically designed to only record simple experiments. So we had to make some alterations.\n",
    "\n",
    "The first thing we did was use the code to create a small custom app for Android. This app allows us to record a single experiment each time for a specific person. In the original code, it would be multiple exercises after one another.\n",
    "\n",
    "The data from the Muse was only stored in the JSON format. We had to create a version that also saved this data in the CSV format. This way we can easily read the data in excel. This will mostly be used to quickly assess if the data is valid and make to create graphs.\n",
    "\n",
    "After fixing some small issues in the code we were able to get accurate readings that reflected the user’s level of focus.\n",
    "\n",
    "### Measuring\n",
    "To determine if we can actually measure how long a person can focus we recorded  a few different sets of data. The first recording was a thirty second recording where we focused as much as possible for a short period of time. We then took the highest value of that recording to determine when a person was really focused. \n",
    "\n",
    "The second recording was a thirty second recording where we tried to be as relaxed as possible and not focusing on anything. From this set we used the lowest possible value. \n",
    "\n",
    "The third was me looking at a moving cube that we made as a test focus element. As you can see from this graph:\n",
    "\n",
    "[image]"
   ]
  },
  {
   "cell_type": "markdown",
   "id": "burning-origin",
   "metadata": {},
   "source": [
    "## What  EEG data do we need to determine the length of attention span\n",
    "-"
   ]
  },
  {
   "cell_type": "markdown",
   "id": "extended-psychology",
   "metadata": {},
   "source": [
    "## What effects do short breaks have on attention span\n",
    "To begin answering this question we needed to come up with a method of sampling and interpreting the data. We already described in above sections how the muse hardware can be used to get a subjects focus level for a certain time interval. We are going to build upon this and conduct an experiment where we will compare the averages from the population to determine the population mean for a focus period with and without a break."
   ]
  },
  {
   "cell_type": "markdown",
   "id": "ceramic-gibraltar",
   "metadata": {},
   "source": [
    "### Experiment design\n",
    "We decided to set the experiment up with a matched pair design: Each of the participants will be asked to perform both in the control group as well as the treatment group.\n",
    "\n",
    "Participants will be asked to stare at a singular point on a screen for `8` minutes total while wearing the muse headset. Our reasoning behind this setup is that the task of staring at a single point on the screen is rather boring, and should hopefully show a significant loss of focus in a relatively short time. This way, we will be able to conduct more samples.\n",
    "\n",
    "For the control group participants will be asked to spend these `8` minutes focussing in one single sitting. The treatment group on the other hand will have 2 periods of `4` minutes, separated by a `2` minute break.\n",
    "\n",
    "In total we gathered a sample size of:  \n",
    "$$n = 11$$  \n",
    "The `.csv` file for each participant's break and no-break focus can be found in the `./Data` folder.  \n",
    "The average focus for each participant are shown in the 2 tables below:"
   ]
  },
  {
   "cell_type": "code",
   "execution_count": 7,
   "id": "loving-patrick",
   "metadata": {
    "tags": [
     "hide-input"
    ]
   },
   "outputs": [
    {
     "data": {
      "image/png": "[encoded data removed]",
      "text/plain": [
       "<Figure size 720x480 with 2 Axes>"
      ]
     },
     "metadata": {
      "needs_background": "light"
     },
     "output_type": "display_data"
    }
   ],
   "source": [
    "#maybe rework this later using seaborn\n",
    "folder = \"./Data/Break/Break\"\n",
    "break_stat = []\n",
    "break_mean = []\n",
    "table_data = []\n",
    "\n",
    "for i in range(11):\n",
    "    location = folder + str(i + 1) + \".csv\"\n",
    "    break_stat.append(pd.read_csv(location))\n",
    "    break_mean.append(break_stat[i][\"FocusReal\"].mean())\n",
    "    \n",
    "for i in range(11):\n",
    "    table_data.append([i+1, break_mean[i].round(4)])\n",
    "\n",
    "fig, axs = plt.subplots(1, 2)\n",
    "\n",
    "table_break = axs[0].table(cellText=table_data, cellLoc='center', loc='center', colLabels=[\"Participant\", \"Concentration mean (≈)\"], colWidths=[0.3,1])\n",
    "table_break.set_fontsize(14)\n",
    "table_break.scale(1,1.5)\n",
    "axs[0].axis('off')\n",
    "axs[0].set_title(\"Break\")\n",
    "\n",
    "table_no_break = axs[1].table(cellText=table_data, cellLoc='center', loc='center', colLabels=[\"Participant\", \"Concentration mean (≈)\"], colWidths=[0.3,1])\n",
    "table_no_break.set_fontsize(14)\n",
    "table_no_break.scale(1,1.5)\n",
    "axs[1].axis('off')\n",
    "axs[1].set_title(\"No break\")\n",
    "\n",
    "fig.dpi = 120\n",
    "plt.tight_layout()\n",
    "plt.show()"
   ]
  },
  {
   "cell_type": "markdown",
   "id": "proprietary-generic",
   "metadata": {},
   "source": [
    "### Conditions for inference\n",
    "-show sampling distribution\n",
    "\n",
    "-make conclusion that conditions for inference are not met based on following:\n",
    "    -distribution is (roughly) symmetrical\n",
    "    -sample was not random\n",
    "    -sample size was not greater than 30\n",
    "    \n",
    "-declare that for the sake of the study we are going to assume that the conditions for inference are met"
   ]
  },
  {
   "cell_type": "markdown",
   "id": "underlying-option",
   "metadata": {},
   "source": [
    "### Extracting population means from samples\n",
    "-calculate standard dev.\n",
    "-extrapolate from sample mean to population mean\n",
    "-etc.."
   ]
  },
  {
   "cell_type": "markdown",
   "id": "educated-aging",
   "metadata": {},
   "source": [
    "# Conclusion\n",
    "stump"
   ]
  },
  {
   "cell_type": "markdown",
   "id": "another-forge",
   "metadata": {},
   "source": [
    "# Sources\n",
    "stump"
   ]
  },
  {
   "cell_type": "code",
   "execution_count": 11,
   "id": "running-feeling",
   "metadata": {},
   "outputs": [
    {
     "name": "stdout",
     "output_type": "stream",
     "text": [
      "hello world\n"
     ]
    }
   ],
   "source": [
    "print(\"hello world\")"
   ]
  }
 ],
 "metadata": {
  "kernelspec": {
   "display_name": "Python 3",
   "language": "python",
   "name": "python3"
  },
  "language_info": {
   "codemirror_mode": {
    "name": "ipython",
    "version": 3
   },
   "file_extension": ".py",
   "mimetype": "text/x-python",
   "name": "python",
   "nbconvert_exporter": "python",
   "pygments_lexer": "ipython3",
   "version": "3.9.1"
  }
 },
 "nbformat": 4,
 "nbformat_minor": 5
}
